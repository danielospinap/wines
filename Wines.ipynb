{
  "nbformat": 4,
  "nbformat_minor": 0,
  "metadata": {
    "colab": {
      "provenance": [],
      "include_colab_link": true
    },
    "kernelspec": {
      "name": "python3",
      "display_name": "Python 3"
    },
    "language_info": {
      "name": "python"
    }
  },
  "cells": [
    {
      "cell_type": "markdown",
      "metadata": {
        "id": "view-in-github",
        "colab_type": "text"
      },
      "source": [
        "<a href=\"https://colab.research.google.com/github/danielospinap/wines/blob/main/Wines.ipynb\" target=\"_parent\"><img src=\"https://colab.research.google.com/assets/colab-badge.svg\" alt=\"Open In Colab\"/></a>"
      ]
    },
    {
      "cell_type": "code",
      "execution_count": 1,
      "metadata": {
        "colab": {
          "base_uri": "https://localhost:8080/"
        },
        "id": "PHbTbXGgeh4B",
        "outputId": "63649933-2767-4e87-ba21-2ebcf59d382d"
      },
      "outputs": [
        {
          "output_type": "stream",
          "name": "stdout",
          "text": [
            "Collecting ucimlrepo\n",
            "  Downloading ucimlrepo-0.0.3-py3-none-any.whl (7.0 kB)\n",
            "Installing collected packages: ucimlrepo\n",
            "Successfully installed ucimlrepo-0.0.3\n"
          ]
        }
      ],
      "source": [
        "!pip install ucimlrepo"
      ]
    },
    {
      "cell_type": "code",
      "source": [
        "import pandas as pd\n",
        "import numpy as np\n",
        "import matplotlib.pyplot as plt\n",
        "from tabulate import tabulate\n",
        "from sklearn.model_selection import GridSearchCV\n",
        "from sklearn.neural_network import MLPClassifier\n",
        "from sklearn.ensemble import GradientBoostingClassifier\n",
        "from sklearn.discriminant_analysis import QuadraticDiscriminantAnalysis\n",
        "from sklearn.model_selection import train_test_split\n",
        "from sklearn.metrics import accuracy_score\n",
        "from sklearn.preprocessing import StandardScaler"
      ],
      "metadata": {
        "id": "KReg707xgBRr"
      },
      "execution_count": 140,
      "outputs": []
    },
    {
      "cell_type": "code",
      "source": [
        "from ucimlrepo import fetch_ucirepo\n",
        "\n",
        "# fetch dataset\n",
        "wine = fetch_ucirepo(id=109)\n",
        "\n",
        "# data (as pandas dataframes)\n",
        "X = wine.data.features\n",
        "Y = wine.data.targets\n",
        "\n",
        "wine.data.original\n"
      ],
      "metadata": {
        "colab": {
          "base_uri": "https://localhost:8080/",
          "height": 444
        },
        "id": "JnPk-07Cfu1k",
        "outputId": "da216e16-7392-447d-f60c-df15cba414c9"
      },
      "execution_count": 8,
      "outputs": [
        {
          "output_type": "execute_result",
          "data": {
            "text/plain": [
              "     Alcohol  Malicacid   Ash  Alcalinity_of_ash  Magnesium  Total_phenols  \\\n",
              "0      14.23       1.71  2.43               15.6        127           2.80   \n",
              "1      13.20       1.78  2.14               11.2        100           2.65   \n",
              "2      13.16       2.36  2.67               18.6        101           2.80   \n",
              "3      14.37       1.95  2.50               16.8        113           3.85   \n",
              "4      13.24       2.59  2.87               21.0        118           2.80   \n",
              "..       ...        ...   ...                ...        ...            ...   \n",
              "173    13.71       5.65  2.45               20.5         95           1.68   \n",
              "174    13.40       3.91  2.48               23.0        102           1.80   \n",
              "175    13.27       4.28  2.26               20.0        120           1.59   \n",
              "176    13.17       2.59  2.37               20.0        120           1.65   \n",
              "177    14.13       4.10  2.74               24.5         96           2.05   \n",
              "\n",
              "     Flavanoids  Nonflavanoid_phenols  Proanthocyanins  Color_intensity   Hue  \\\n",
              "0          3.06                  0.28             2.29             5.64  1.04   \n",
              "1          2.76                  0.26             1.28             4.38  1.05   \n",
              "2          3.24                  0.30             2.81             5.68  1.03   \n",
              "3          3.49                  0.24             2.18             7.80  0.86   \n",
              "4          2.69                  0.39             1.82             4.32  1.04   \n",
              "..          ...                   ...              ...              ...   ...   \n",
              "173        0.61                  0.52             1.06             7.70  0.64   \n",
              "174        0.75                  0.43             1.41             7.30  0.70   \n",
              "175        0.69                  0.43             1.35            10.20  0.59   \n",
              "176        0.68                  0.53             1.46             9.30  0.60   \n",
              "177        0.76                  0.56             1.35             9.20  0.61   \n",
              "\n",
              "     0D280_0D315_of_diluted_wines  Proline  class  \n",
              "0                            3.92     1065      1  \n",
              "1                            3.40     1050      1  \n",
              "2                            3.17     1185      1  \n",
              "3                            3.45     1480      1  \n",
              "4                            2.93      735      1  \n",
              "..                            ...      ...    ...  \n",
              "173                          1.74      740      3  \n",
              "174                          1.56      750      3  \n",
              "175                          1.56      835      3  \n",
              "176                          1.62      840      3  \n",
              "177                          1.60      560      3  \n",
              "\n",
              "[178 rows x 14 columns]"
            ],
            "text/html": [
              "\n",
              "  <div id=\"df-ca6fb0a9-f382-4dcd-aef3-e8ceedfc48b4\" class=\"colab-df-container\">\n",
              "    <div>\n",
              "<style scoped>\n",
              "    .dataframe tbody tr th:only-of-type {\n",
              "        vertical-align: middle;\n",
              "    }\n",
              "\n",
              "    .dataframe tbody tr th {\n",
              "        vertical-align: top;\n",
              "    }\n",
              "\n",
              "    .dataframe thead th {\n",
              "        text-align: right;\n",
              "    }\n",
              "</style>\n",
              "<table border=\"1\" class=\"dataframe\">\n",
              "  <thead>\n",
              "    <tr style=\"text-align: right;\">\n",
              "      <th></th>\n",
              "      <th>Alcohol</th>\n",
              "      <th>Malicacid</th>\n",
              "      <th>Ash</th>\n",
              "      <th>Alcalinity_of_ash</th>\n",
              "      <th>Magnesium</th>\n",
              "      <th>Total_phenols</th>\n",
              "      <th>Flavanoids</th>\n",
              "      <th>Nonflavanoid_phenols</th>\n",
              "      <th>Proanthocyanins</th>\n",
              "      <th>Color_intensity</th>\n",
              "      <th>Hue</th>\n",
              "      <th>0D280_0D315_of_diluted_wines</th>\n",
              "      <th>Proline</th>\n",
              "      <th>class</th>\n",
              "    </tr>\n",
              "  </thead>\n",
              "  <tbody>\n",
              "    <tr>\n",
              "      <th>0</th>\n",
              "      <td>14.23</td>\n",
              "      <td>1.71</td>\n",
              "      <td>2.43</td>\n",
              "      <td>15.6</td>\n",
              "      <td>127</td>\n",
              "      <td>2.80</td>\n",
              "      <td>3.06</td>\n",
              "      <td>0.28</td>\n",
              "      <td>2.29</td>\n",
              "      <td>5.64</td>\n",
              "      <td>1.04</td>\n",
              "      <td>3.92</td>\n",
              "      <td>1065</td>\n",
              "      <td>1</td>\n",
              "    </tr>\n",
              "    <tr>\n",
              "      <th>1</th>\n",
              "      <td>13.20</td>\n",
              "      <td>1.78</td>\n",
              "      <td>2.14</td>\n",
              "      <td>11.2</td>\n",
              "      <td>100</td>\n",
              "      <td>2.65</td>\n",
              "      <td>2.76</td>\n",
              "      <td>0.26</td>\n",
              "      <td>1.28</td>\n",
              "      <td>4.38</td>\n",
              "      <td>1.05</td>\n",
              "      <td>3.40</td>\n",
              "      <td>1050</td>\n",
              "      <td>1</td>\n",
              "    </tr>\n",
              "    <tr>\n",
              "      <th>2</th>\n",
              "      <td>13.16</td>\n",
              "      <td>2.36</td>\n",
              "      <td>2.67</td>\n",
              "      <td>18.6</td>\n",
              "      <td>101</td>\n",
              "      <td>2.80</td>\n",
              "      <td>3.24</td>\n",
              "      <td>0.30</td>\n",
              "      <td>2.81</td>\n",
              "      <td>5.68</td>\n",
              "      <td>1.03</td>\n",
              "      <td>3.17</td>\n",
              "      <td>1185</td>\n",
              "      <td>1</td>\n",
              "    </tr>\n",
              "    <tr>\n",
              "      <th>3</th>\n",
              "      <td>14.37</td>\n",
              "      <td>1.95</td>\n",
              "      <td>2.50</td>\n",
              "      <td>16.8</td>\n",
              "      <td>113</td>\n",
              "      <td>3.85</td>\n",
              "      <td>3.49</td>\n",
              "      <td>0.24</td>\n",
              "      <td>2.18</td>\n",
              "      <td>7.80</td>\n",
              "      <td>0.86</td>\n",
              "      <td>3.45</td>\n",
              "      <td>1480</td>\n",
              "      <td>1</td>\n",
              "    </tr>\n",
              "    <tr>\n",
              "      <th>4</th>\n",
              "      <td>13.24</td>\n",
              "      <td>2.59</td>\n",
              "      <td>2.87</td>\n",
              "      <td>21.0</td>\n",
              "      <td>118</td>\n",
              "      <td>2.80</td>\n",
              "      <td>2.69</td>\n",
              "      <td>0.39</td>\n",
              "      <td>1.82</td>\n",
              "      <td>4.32</td>\n",
              "      <td>1.04</td>\n",
              "      <td>2.93</td>\n",
              "      <td>735</td>\n",
              "      <td>1</td>\n",
              "    </tr>\n",
              "    <tr>\n",
              "      <th>...</th>\n",
              "      <td>...</td>\n",
              "      <td>...</td>\n",
              "      <td>...</td>\n",
              "      <td>...</td>\n",
              "      <td>...</td>\n",
              "      <td>...</td>\n",
              "      <td>...</td>\n",
              "      <td>...</td>\n",
              "      <td>...</td>\n",
              "      <td>...</td>\n",
              "      <td>...</td>\n",
              "      <td>...</td>\n",
              "      <td>...</td>\n",
              "      <td>...</td>\n",
              "    </tr>\n",
              "    <tr>\n",
              "      <th>173</th>\n",
              "      <td>13.71</td>\n",
              "      <td>5.65</td>\n",
              "      <td>2.45</td>\n",
              "      <td>20.5</td>\n",
              "      <td>95</td>\n",
              "      <td>1.68</td>\n",
              "      <td>0.61</td>\n",
              "      <td>0.52</td>\n",
              "      <td>1.06</td>\n",
              "      <td>7.70</td>\n",
              "      <td>0.64</td>\n",
              "      <td>1.74</td>\n",
              "      <td>740</td>\n",
              "      <td>3</td>\n",
              "    </tr>\n",
              "    <tr>\n",
              "      <th>174</th>\n",
              "      <td>13.40</td>\n",
              "      <td>3.91</td>\n",
              "      <td>2.48</td>\n",
              "      <td>23.0</td>\n",
              "      <td>102</td>\n",
              "      <td>1.80</td>\n",
              "      <td>0.75</td>\n",
              "      <td>0.43</td>\n",
              "      <td>1.41</td>\n",
              "      <td>7.30</td>\n",
              "      <td>0.70</td>\n",
              "      <td>1.56</td>\n",
              "      <td>750</td>\n",
              "      <td>3</td>\n",
              "    </tr>\n",
              "    <tr>\n",
              "      <th>175</th>\n",
              "      <td>13.27</td>\n",
              "      <td>4.28</td>\n",
              "      <td>2.26</td>\n",
              "      <td>20.0</td>\n",
              "      <td>120</td>\n",
              "      <td>1.59</td>\n",
              "      <td>0.69</td>\n",
              "      <td>0.43</td>\n",
              "      <td>1.35</td>\n",
              "      <td>10.20</td>\n",
              "      <td>0.59</td>\n",
              "      <td>1.56</td>\n",
              "      <td>835</td>\n",
              "      <td>3</td>\n",
              "    </tr>\n",
              "    <tr>\n",
              "      <th>176</th>\n",
              "      <td>13.17</td>\n",
              "      <td>2.59</td>\n",
              "      <td>2.37</td>\n",
              "      <td>20.0</td>\n",
              "      <td>120</td>\n",
              "      <td>1.65</td>\n",
              "      <td>0.68</td>\n",
              "      <td>0.53</td>\n",
              "      <td>1.46</td>\n",
              "      <td>9.30</td>\n",
              "      <td>0.60</td>\n",
              "      <td>1.62</td>\n",
              "      <td>840</td>\n",
              "      <td>3</td>\n",
              "    </tr>\n",
              "    <tr>\n",
              "      <th>177</th>\n",
              "      <td>14.13</td>\n",
              "      <td>4.10</td>\n",
              "      <td>2.74</td>\n",
              "      <td>24.5</td>\n",
              "      <td>96</td>\n",
              "      <td>2.05</td>\n",
              "      <td>0.76</td>\n",
              "      <td>0.56</td>\n",
              "      <td>1.35</td>\n",
              "      <td>9.20</td>\n",
              "      <td>0.61</td>\n",
              "      <td>1.60</td>\n",
              "      <td>560</td>\n",
              "      <td>3</td>\n",
              "    </tr>\n",
              "  </tbody>\n",
              "</table>\n",
              "<p>178 rows × 14 columns</p>\n",
              "</div>\n",
              "    <div class=\"colab-df-buttons\">\n",
              "\n",
              "  <div class=\"colab-df-container\">\n",
              "    <button class=\"colab-df-convert\" onclick=\"convertToInteractive('df-ca6fb0a9-f382-4dcd-aef3-e8ceedfc48b4')\"\n",
              "            title=\"Convert this dataframe to an interactive table.\"\n",
              "            style=\"display:none;\">\n",
              "\n",
              "  <svg xmlns=\"http://www.w3.org/2000/svg\" height=\"24px\" viewBox=\"0 -960 960 960\">\n",
              "    <path d=\"M120-120v-720h720v720H120Zm60-500h600v-160H180v160Zm220 220h160v-160H400v160Zm0 220h160v-160H400v160ZM180-400h160v-160H180v160Zm440 0h160v-160H620v160ZM180-180h160v-160H180v160Zm440 0h160v-160H620v160Z\"/>\n",
              "  </svg>\n",
              "    </button>\n",
              "\n",
              "  <style>\n",
              "    .colab-df-container {\n",
              "      display:flex;\n",
              "      gap: 12px;\n",
              "    }\n",
              "\n",
              "    .colab-df-convert {\n",
              "      background-color: #E8F0FE;\n",
              "      border: none;\n",
              "      border-radius: 50%;\n",
              "      cursor: pointer;\n",
              "      display: none;\n",
              "      fill: #1967D2;\n",
              "      height: 32px;\n",
              "      padding: 0 0 0 0;\n",
              "      width: 32px;\n",
              "    }\n",
              "\n",
              "    .colab-df-convert:hover {\n",
              "      background-color: #E2EBFA;\n",
              "      box-shadow: 0px 1px 2px rgba(60, 64, 67, 0.3), 0px 1px 3px 1px rgba(60, 64, 67, 0.15);\n",
              "      fill: #174EA6;\n",
              "    }\n",
              "\n",
              "    .colab-df-buttons div {\n",
              "      margin-bottom: 4px;\n",
              "    }\n",
              "\n",
              "    [theme=dark] .colab-df-convert {\n",
              "      background-color: #3B4455;\n",
              "      fill: #D2E3FC;\n",
              "    }\n",
              "\n",
              "    [theme=dark] .colab-df-convert:hover {\n",
              "      background-color: #434B5C;\n",
              "      box-shadow: 0px 1px 3px 1px rgba(0, 0, 0, 0.15);\n",
              "      filter: drop-shadow(0px 1px 2px rgba(0, 0, 0, 0.3));\n",
              "      fill: #FFFFFF;\n",
              "    }\n",
              "  </style>\n",
              "\n",
              "    <script>\n",
              "      const buttonEl =\n",
              "        document.querySelector('#df-ca6fb0a9-f382-4dcd-aef3-e8ceedfc48b4 button.colab-df-convert');\n",
              "      buttonEl.style.display =\n",
              "        google.colab.kernel.accessAllowed ? 'block' : 'none';\n",
              "\n",
              "      async function convertToInteractive(key) {\n",
              "        const element = document.querySelector('#df-ca6fb0a9-f382-4dcd-aef3-e8ceedfc48b4');\n",
              "        const dataTable =\n",
              "          await google.colab.kernel.invokeFunction('convertToInteractive',\n",
              "                                                    [key], {});\n",
              "        if (!dataTable) return;\n",
              "\n",
              "        const docLinkHtml = 'Like what you see? Visit the ' +\n",
              "          '<a target=\"_blank\" href=https://colab.research.google.com/notebooks/data_table.ipynb>data table notebook</a>'\n",
              "          + ' to learn more about interactive tables.';\n",
              "        element.innerHTML = '';\n",
              "        dataTable['output_type'] = 'display_data';\n",
              "        await google.colab.output.renderOutput(dataTable, element);\n",
              "        const docLink = document.createElement('div');\n",
              "        docLink.innerHTML = docLinkHtml;\n",
              "        element.appendChild(docLink);\n",
              "      }\n",
              "    </script>\n",
              "  </div>\n",
              "\n",
              "\n",
              "<div id=\"df-3044f3f0-7bb0-473a-9654-84c31d08d0be\">\n",
              "  <button class=\"colab-df-quickchart\" onclick=\"quickchart('df-3044f3f0-7bb0-473a-9654-84c31d08d0be')\"\n",
              "            title=\"Suggest charts.\"\n",
              "            style=\"display:none;\">\n",
              "\n",
              "<svg xmlns=\"http://www.w3.org/2000/svg\" height=\"24px\"viewBox=\"0 0 24 24\"\n",
              "     width=\"24px\">\n",
              "    <g>\n",
              "        <path d=\"M19 3H5c-1.1 0-2 .9-2 2v14c0 1.1.9 2 2 2h14c1.1 0 2-.9 2-2V5c0-1.1-.9-2-2-2zM9 17H7v-7h2v7zm4 0h-2V7h2v10zm4 0h-2v-4h2v4z\"/>\n",
              "    </g>\n",
              "</svg>\n",
              "  </button>\n",
              "\n",
              "<style>\n",
              "  .colab-df-quickchart {\n",
              "      --bg-color: #E8F0FE;\n",
              "      --fill-color: #1967D2;\n",
              "      --hover-bg-color: #E2EBFA;\n",
              "      --hover-fill-color: #174EA6;\n",
              "      --disabled-fill-color: #AAA;\n",
              "      --disabled-bg-color: #DDD;\n",
              "  }\n",
              "\n",
              "  [theme=dark] .colab-df-quickchart {\n",
              "      --bg-color: #3B4455;\n",
              "      --fill-color: #D2E3FC;\n",
              "      --hover-bg-color: #434B5C;\n",
              "      --hover-fill-color: #FFFFFF;\n",
              "      --disabled-bg-color: #3B4455;\n",
              "      --disabled-fill-color: #666;\n",
              "  }\n",
              "\n",
              "  .colab-df-quickchart {\n",
              "    background-color: var(--bg-color);\n",
              "    border: none;\n",
              "    border-radius: 50%;\n",
              "    cursor: pointer;\n",
              "    display: none;\n",
              "    fill: var(--fill-color);\n",
              "    height: 32px;\n",
              "    padding: 0;\n",
              "    width: 32px;\n",
              "  }\n",
              "\n",
              "  .colab-df-quickchart:hover {\n",
              "    background-color: var(--hover-bg-color);\n",
              "    box-shadow: 0 1px 2px rgba(60, 64, 67, 0.3), 0 1px 3px 1px rgba(60, 64, 67, 0.15);\n",
              "    fill: var(--button-hover-fill-color);\n",
              "  }\n",
              "\n",
              "  .colab-df-quickchart-complete:disabled,\n",
              "  .colab-df-quickchart-complete:disabled:hover {\n",
              "    background-color: var(--disabled-bg-color);\n",
              "    fill: var(--disabled-fill-color);\n",
              "    box-shadow: none;\n",
              "  }\n",
              "\n",
              "  .colab-df-spinner {\n",
              "    border: 2px solid var(--fill-color);\n",
              "    border-color: transparent;\n",
              "    border-bottom-color: var(--fill-color);\n",
              "    animation:\n",
              "      spin 1s steps(1) infinite;\n",
              "  }\n",
              "\n",
              "  @keyframes spin {\n",
              "    0% {\n",
              "      border-color: transparent;\n",
              "      border-bottom-color: var(--fill-color);\n",
              "      border-left-color: var(--fill-color);\n",
              "    }\n",
              "    20% {\n",
              "      border-color: transparent;\n",
              "      border-left-color: var(--fill-color);\n",
              "      border-top-color: var(--fill-color);\n",
              "    }\n",
              "    30% {\n",
              "      border-color: transparent;\n",
              "      border-left-color: var(--fill-color);\n",
              "      border-top-color: var(--fill-color);\n",
              "      border-right-color: var(--fill-color);\n",
              "    }\n",
              "    40% {\n",
              "      border-color: transparent;\n",
              "      border-right-color: var(--fill-color);\n",
              "      border-top-color: var(--fill-color);\n",
              "    }\n",
              "    60% {\n",
              "      border-color: transparent;\n",
              "      border-right-color: var(--fill-color);\n",
              "    }\n",
              "    80% {\n",
              "      border-color: transparent;\n",
              "      border-right-color: var(--fill-color);\n",
              "      border-bottom-color: var(--fill-color);\n",
              "    }\n",
              "    90% {\n",
              "      border-color: transparent;\n",
              "      border-bottom-color: var(--fill-color);\n",
              "    }\n",
              "  }\n",
              "</style>\n",
              "\n",
              "  <script>\n",
              "    async function quickchart(key) {\n",
              "      const quickchartButtonEl =\n",
              "        document.querySelector('#' + key + ' button');\n",
              "      quickchartButtonEl.disabled = true;  // To prevent multiple clicks.\n",
              "      quickchartButtonEl.classList.add('colab-df-spinner');\n",
              "      try {\n",
              "        const charts = await google.colab.kernel.invokeFunction(\n",
              "            'suggestCharts', [key], {});\n",
              "      } catch (error) {\n",
              "        console.error('Error during call to suggestCharts:', error);\n",
              "      }\n",
              "      quickchartButtonEl.classList.remove('colab-df-spinner');\n",
              "      quickchartButtonEl.classList.add('colab-df-quickchart-complete');\n",
              "    }\n",
              "    (() => {\n",
              "      let quickchartButtonEl =\n",
              "        document.querySelector('#df-3044f3f0-7bb0-473a-9654-84c31d08d0be button');\n",
              "      quickchartButtonEl.style.display =\n",
              "        google.colab.kernel.accessAllowed ? 'block' : 'none';\n",
              "    })();\n",
              "  </script>\n",
              "</div>\n",
              "    </div>\n",
              "  </div>\n"
            ]
          },
          "metadata": {},
          "execution_count": 8
        }
      ]
    },
    {
      "cell_type": "code",
      "source": [
        "X_norm= StandardScaler().fit(X).transform(X)"
      ],
      "metadata": {
        "id": "PlQkw3pAk365"
      },
      "execution_count": 178,
      "outputs": []
    },
    {
      "cell_type": "code",
      "source": [
        "x_train, x_test, y_train, y_test = train_test_split(X_norm, Y, test_size=0.3)"
      ],
      "metadata": {
        "id": "_U9iMTf_hv0Z"
      },
      "execution_count": 179,
      "outputs": []
    },
    {
      "cell_type": "markdown",
      "source": [
        "# **Redes Neuronales Artificiales**"
      ],
      "metadata": {
        "id": "RvWLjr9Ipr8W"
      }
    },
    {
      "cell_type": "code",
      "source": [
        "param_grid_mlp = {\n",
        "  'hidden_layer_sizes' : [(10), (20), (30), (40), (50), (60), (70), (80), (90), (100),\n",
        "   (10, 10), (20, 20), (30, 30), (40, 40), (50, 50), (60, 60), (70, 70), (80, 80), (90, 90), (100, 100),\n",
        "    (10, 10, 10), (20, 20, 20), (30, 30, 30), (40, 40, 40), (50, 50, 50), (60, 60, 60), (70, 70, 70), (80, 80, 80), (90, 90, 90), (100, 100, 100)],\n",
        "  'max_iter': [10000],\n",
        "}"
      ],
      "metadata": {
        "id": "f7BtI3P9-1iI"
      },
      "execution_count": 180,
      "outputs": []
    },
    {
      "cell_type": "code",
      "source": [
        "mlp_model = MLPClassifier()\n",
        "grid_search_mlp = GridSearchCV(estimator=mlp_model, param_grid=param_grid_mlp, scoring='accuracy')\n",
        "grid_search_mlp.fit(x_train, y_train.values.ravel())\n",
        "results_mlp = grid_search_mlp.cv_results_\n",
        "results_mlp"
      ],
      "metadata": {
        "colab": {
          "base_uri": "https://localhost:8080/"
        },
        "id": "3JYACKA8-Vc1",
        "outputId": "38095f90-5da9-4e4c-ac1a-52835710f0c8"
      },
      "execution_count": 181,
      "outputs": [
        {
          "output_type": "execute_result",
          "data": {
            "text/plain": [
              "{'mean_fit_time': array([0.26323252, 0.17660112, 0.16858644, 0.15683403, 0.15107441,\n",
              "        0.14077048, 0.14901953, 0.14618859, 0.14664807, 0.141852  ,\n",
              "        0.19087424, 0.14624333, 0.16863766, 0.1929431 , 0.18535318,\n",
              "        0.19808888, 0.18072991, 0.16450219, 0.28404093, 0.17000446,\n",
              "        0.21345239, 0.1338819 , 0.11253676, 0.10810266, 0.10411592,\n",
              "        0.15042396, 0.14845133, 0.26311698, 0.33120761, 0.15853028]),\n",
              " 'std_fit_time': array([0.05648212, 0.01459234, 0.00930739, 0.00839654, 0.0105188 ,\n",
              "        0.00404703, 0.01090728, 0.01158014, 0.01114017, 0.00574405,\n",
              "        0.02728559, 0.01802766, 0.04172205, 0.00730491, 0.01406835,\n",
              "        0.04631533, 0.01849942, 0.00449021, 0.21846633, 0.01202507,\n",
              "        0.02632056, 0.0082865 , 0.00428525, 0.00406736, 0.00321268,\n",
              "        0.00880591, 0.00663804, 0.08135268, 0.01879764, 0.01594797]),\n",
              " 'mean_score_time': array([0.0007544 , 0.00074263, 0.00075049, 0.00074973, 0.00074978,\n",
              "        0.00074778, 0.00074854, 0.00075974, 0.00075326, 0.00081267,\n",
              "        0.00073094, 0.00074   , 0.00091567, 0.00107374, 0.00108485,\n",
              "        0.00102668, 0.00106297, 0.00107131, 0.00156426, 0.00110025,\n",
              "        0.00074587, 0.00074029, 0.00082269, 0.00077114, 0.00078621,\n",
              "        0.00106649, 0.00108266, 0.00111938, 0.00118432, 0.00116482]),\n",
              " 'std_score_time': array([3.21362775e-05, 3.23650565e-05, 1.82563257e-05, 2.35253304e-05,\n",
              "        1.10265951e-05, 1.43706094e-05, 1.59684214e-05, 2.62631241e-05,\n",
              "        2.29400801e-05, 1.28071714e-04, 1.91801190e-05, 1.53837452e-05,\n",
              "        1.25644791e-04, 4.44412743e-05, 4.45707321e-05, 9.22824666e-06,\n",
              "        3.10792496e-05, 4.66556833e-05, 9.98469398e-04, 5.87438221e-05,\n",
              "        2.01970794e-05, 9.88445589e-06, 9.24554665e-05, 2.85858209e-05,\n",
              "        4.63456773e-05, 3.66924257e-05, 3.39767807e-05, 7.07776383e-05,\n",
              "        2.75563199e-05, 4.66866194e-05]),\n",
              " 'param_hidden_layer_sizes': masked_array(data=[10, 20, 30, 40, 50, 60, 70, 80, 90, 100, (10, 10),\n",
              "                    (20, 20), (30, 30), (40, 40), (50, 50), (60, 60),\n",
              "                    (70, 70), (80, 80), (90, 90), (100, 100), (10, 10, 10),\n",
              "                    (20, 20, 20), (30, 30, 30), (40, 40, 40), (50, 50, 50),\n",
              "                    (60, 60, 60), (70, 70, 70), (80, 80, 80), (90, 90, 90),\n",
              "                    (100, 100, 100)],\n",
              "              mask=[False, False, False, False, False, False, False, False,\n",
              "                    False, False, False, False, False, False, False, False,\n",
              "                    False, False, False, False, False, False, False, False,\n",
              "                    False, False, False, False, False, False],\n",
              "        fill_value='?',\n",
              "             dtype=object),\n",
              " 'param_max_iter': masked_array(data=[10000, 10000, 10000, 10000, 10000, 10000, 10000, 10000,\n",
              "                    10000, 10000, 10000, 10000, 10000, 10000, 10000, 10000,\n",
              "                    10000, 10000, 10000, 10000, 10000, 10000, 10000, 10000,\n",
              "                    10000, 10000, 10000, 10000, 10000, 10000],\n",
              "              mask=[False, False, False, False, False, False, False, False,\n",
              "                    False, False, False, False, False, False, False, False,\n",
              "                    False, False, False, False, False, False, False, False,\n",
              "                    False, False, False, False, False, False],\n",
              "        fill_value='?',\n",
              "             dtype=object),\n",
              " 'params': [{'hidden_layer_sizes': 10, 'max_iter': 10000},\n",
              "  {'hidden_layer_sizes': 20, 'max_iter': 10000},\n",
              "  {'hidden_layer_sizes': 30, 'max_iter': 10000},\n",
              "  {'hidden_layer_sizes': 40, 'max_iter': 10000},\n",
              "  {'hidden_layer_sizes': 50, 'max_iter': 10000},\n",
              "  {'hidden_layer_sizes': 60, 'max_iter': 10000},\n",
              "  {'hidden_layer_sizes': 70, 'max_iter': 10000},\n",
              "  {'hidden_layer_sizes': 80, 'max_iter': 10000},\n",
              "  {'hidden_layer_sizes': 90, 'max_iter': 10000},\n",
              "  {'hidden_layer_sizes': 100, 'max_iter': 10000},\n",
              "  {'hidden_layer_sizes': (10, 10), 'max_iter': 10000},\n",
              "  {'hidden_layer_sizes': (20, 20), 'max_iter': 10000},\n",
              "  {'hidden_layer_sizes': (30, 30), 'max_iter': 10000},\n",
              "  {'hidden_layer_sizes': (40, 40), 'max_iter': 10000},\n",
              "  {'hidden_layer_sizes': (50, 50), 'max_iter': 10000},\n",
              "  {'hidden_layer_sizes': (60, 60), 'max_iter': 10000},\n",
              "  {'hidden_layer_sizes': (70, 70), 'max_iter': 10000},\n",
              "  {'hidden_layer_sizes': (80, 80), 'max_iter': 10000},\n",
              "  {'hidden_layer_sizes': (90, 90), 'max_iter': 10000},\n",
              "  {'hidden_layer_sizes': (100, 100), 'max_iter': 10000},\n",
              "  {'hidden_layer_sizes': (10, 10, 10), 'max_iter': 10000},\n",
              "  {'hidden_layer_sizes': (20, 20, 20), 'max_iter': 10000},\n",
              "  {'hidden_layer_sizes': (30, 30, 30), 'max_iter': 10000},\n",
              "  {'hidden_layer_sizes': (40, 40, 40), 'max_iter': 10000},\n",
              "  {'hidden_layer_sizes': (50, 50, 50), 'max_iter': 10000},\n",
              "  {'hidden_layer_sizes': (60, 60, 60), 'max_iter': 10000},\n",
              "  {'hidden_layer_sizes': (70, 70, 70), 'max_iter': 10000},\n",
              "  {'hidden_layer_sizes': (80, 80, 80), 'max_iter': 10000},\n",
              "  {'hidden_layer_sizes': (90, 90, 90), 'max_iter': 10000},\n",
              "  {'hidden_layer_sizes': (100, 100, 100), 'max_iter': 10000}],\n",
              " 'split0_test_score': array([1.  , 1.  , 1.  , 0.96, 1.  , 0.96, 1.  , 0.96, 0.96, 1.  , 1.  ,\n",
              "        0.96, 0.96, 1.  , 0.96, 0.96, 1.  , 0.96, 0.96, 0.96, 0.96, 1.  ,\n",
              "        0.96, 0.96, 1.  , 0.96, 1.  , 0.96, 1.  , 1.  ]),\n",
              " 'split1_test_score': array([1., 1., 1., 1., 1., 1., 1., 1., 1., 1., 1., 1., 1., 1., 1., 1., 1.,\n",
              "        1., 1., 1., 1., 1., 1., 1., 1., 1., 1., 1., 1., 1.]),\n",
              " 'split2_test_score': array([1.  , 0.96, 1.  , 1.  , 1.  , 0.96, 1.  , 1.  , 1.  , 1.  , 1.  ,\n",
              "        0.96, 1.  , 1.  , 1.  , 1.  , 1.  , 1.  , 1.  , 0.96, 0.96, 1.  ,\n",
              "        1.  , 0.96, 1.  , 0.96, 1.  , 1.  , 0.96, 0.96]),\n",
              " 'split3_test_score': array([1.  , 1.  , 1.  , 1.  , 1.  , 1.  , 1.  , 1.  , 1.  , 1.  , 1.  ,\n",
              "        1.  , 1.  , 1.  , 1.  , 1.  , 1.  , 1.  , 1.  , 1.  , 1.  , 1.  ,\n",
              "        1.  , 0.96, 1.  , 1.  , 1.  , 1.  , 1.  , 1.  ]),\n",
              " 'split4_test_score': array([0.95833333, 0.91666667, 0.875     , 0.875     , 0.875     ,\n",
              "        0.95833333, 0.91666667, 0.83333333, 0.875     , 0.875     ,\n",
              "        0.91666667, 0.95833333, 0.95833333, 0.95833333, 0.875     ,\n",
              "        0.91666667, 0.91666667, 0.875     , 0.875     , 0.91666667,\n",
              "        0.95833333, 0.95833333, 0.91666667, 0.91666667, 0.875     ,\n",
              "        0.91666667, 0.95833333, 0.875     , 0.91666667, 0.875     ]),\n",
              " 'mean_test_score': array([0.99166667, 0.97533333, 0.975     , 0.967     , 0.975     ,\n",
              "        0.97566667, 0.98333333, 0.95866667, 0.967     , 0.975     ,\n",
              "        0.98333333, 0.97566667, 0.98366667, 0.99166667, 0.967     ,\n",
              "        0.97533333, 0.98333333, 0.967     , 0.967     , 0.96733333,\n",
              "        0.97566667, 0.99166667, 0.97533333, 0.95933333, 0.975     ,\n",
              "        0.96733333, 0.99166667, 0.967     , 0.97533333, 0.967     ]),\n",
              " 'std_test_score': array([0.01666667, 0.03317295, 0.05      , 0.04853864, 0.05      ,\n",
              "        0.0198774 , 0.03333333, 0.06455316, 0.04853864, 0.05      ,\n",
              "        0.03333333, 0.0198774 , 0.02001111, 0.01666667, 0.04853864,\n",
              "        0.03317295, 0.03333333, 0.04853864, 0.04853864, 0.03101254,\n",
              "        0.0198774 , 0.01666667, 0.03317295, 0.02636496, 0.05      ,\n",
              "        0.03101254, 0.01666667, 0.04853864, 0.03317295, 0.04853864]),\n",
              " 'rank_test_score': array([ 1, 12, 16, 22, 16,  9,  6, 30, 22, 16,  6,  9,  5,  1, 22, 12,  6,\n",
              "        22, 22, 20,  9,  1, 12, 29, 16, 20,  1, 22, 12, 22], dtype=int32)}"
            ]
          },
          "metadata": {},
          "execution_count": 181
        }
      ]
    },
    {
      "cell_type": "code",
      "source": [
        "grid_search_mlp.best_params_"
      ],
      "metadata": {
        "colab": {
          "base_uri": "https://localhost:8080/"
        },
        "id": "eBOY6kbZFIw7",
        "outputId": "7e7198b0-f7f4-4e44-acc0-3429dc0a3f32"
      },
      "execution_count": 182,
      "outputs": [
        {
          "output_type": "execute_result",
          "data": {
            "text/plain": [
              "{'hidden_layer_sizes': 10, 'max_iter': 10000}"
            ]
          },
          "metadata": {},
          "execution_count": 182
        }
      ]
    },
    {
      "cell_type": "code",
      "source": [
        "my_data = [results_mlp['split0_test_score'],results_mlp['split1_test_score'],results_mlp['split2_test_score'],results_mlp['split3_test_score'],results_mlp['split4_test_score'] ]\n",
        "headers =  [(10), (20), (30), (40), (50), (60), (70), (80), (90), (100),\n",
        "   (10, 10), (20, 20), (30, 30), (40, 40), (50, 50), (60, 60), (70, 70), (80, 80), (90, 90), (100, 100),\n",
        "    (10, 10, 10), (20, 20, 20), (30, 30, 30), (40, 40, 40), (50, 50, 50), (60, 60, 60), (70, 70, 70), (80, 80, 80), (90, 90, 90), (100, 100, 100)]\n",
        "print(tabulate(my_data, headers=headers, tablefmt='grid'))\n",
        ""
      ],
      "metadata": {
        "colab": {
          "base_uri": "https://localhost:8080/"
        },
        "id": "zJptwbIlFWAw",
        "outputId": "6092db68-c73a-4e47-edc5-793783026d1b"
      },
      "execution_count": 183,
      "outputs": [
        {
          "output_type": "stream",
          "name": "stdout",
          "text": [
            "+----------+----------+-------+-------+-------+----------+----------+----------+-------+-------+------------+------------+------------+------------+------------+------------+------------+------------+------------+--------------+----------------+----------------+----------------+----------------+----------------+----------------+----------------+----------------+----------------+-------------------+\n",
            "|       10 |       20 |    30 |    40 |    50 |       60 |       70 |       80 |    90 |   100 |   (10, 10) |   (20, 20) |   (30, 30) |   (40, 40) |   (50, 50) |   (60, 60) |   (70, 70) |   (80, 80) |   (90, 90) |   (100, 100) |   (10, 10, 10) |   (20, 20, 20) |   (30, 30, 30) |   (40, 40, 40) |   (50, 50, 50) |   (60, 60, 60) |   (70, 70, 70) |   (80, 80, 80) |   (90, 90, 90) |   (100, 100, 100) |\n",
            "+==========+==========+=======+=======+=======+==========+==========+==========+=======+=======+============+============+============+============+============+============+============+============+============+==============+================+================+================+================+================+================+================+================+================+===================+\n",
            "| 1        | 1        | 1     | 0.96  | 1     | 0.96     | 1        | 0.96     | 0.96  | 1     |   1        |   0.96     |   0.96     |   1        |      0.96  |   0.96     |   1        |      0.96  |      0.96  |     0.96     |       0.96     |       1        |       0.96     |       0.96     |          1     |       0.96     |       1        |          0.96  |       1        |             1     |\n",
            "+----------+----------+-------+-------+-------+----------+----------+----------+-------+-------+------------+------------+------------+------------+------------+------------+------------+------------+------------+--------------+----------------+----------------+----------------+----------------+----------------+----------------+----------------+----------------+----------------+-------------------+\n",
            "| 1        | 1        | 1     | 1     | 1     | 1        | 1        | 1        | 1     | 1     |   1        |   1        |   1        |   1        |      1     |   1        |   1        |      1     |      1     |     1        |       1        |       1        |       1        |       1        |          1     |       1        |       1        |          1     |       1        |             1     |\n",
            "+----------+----------+-------+-------+-------+----------+----------+----------+-------+-------+------------+------------+------------+------------+------------+------------+------------+------------+------------+--------------+----------------+----------------+----------------+----------------+----------------+----------------+----------------+----------------+----------------+-------------------+\n",
            "| 1        | 0.96     | 1     | 1     | 1     | 0.96     | 1        | 1        | 1     | 1     |   1        |   0.96     |   1        |   1        |      1     |   1        |   1        |      1     |      1     |     0.96     |       0.96     |       1        |       1        |       0.96     |          1     |       0.96     |       1        |          1     |       0.96     |             0.96  |\n",
            "+----------+----------+-------+-------+-------+----------+----------+----------+-------+-------+------------+------------+------------+------------+------------+------------+------------+------------+------------+--------------+----------------+----------------+----------------+----------------+----------------+----------------+----------------+----------------+----------------+-------------------+\n",
            "| 1        | 1        | 1     | 1     | 1     | 1        | 1        | 1        | 1     | 1     |   1        |   1        |   1        |   1        |      1     |   1        |   1        |      1     |      1     |     1        |       1        |       1        |       1        |       0.96     |          1     |       1        |       1        |          1     |       1        |             1     |\n",
            "+----------+----------+-------+-------+-------+----------+----------+----------+-------+-------+------------+------------+------------+------------+------------+------------+------------+------------+------------+--------------+----------------+----------------+----------------+----------------+----------------+----------------+----------------+----------------+----------------+-------------------+\n",
            "| 0.958333 | 0.916667 | 0.875 | 0.875 | 0.875 | 0.958333 | 0.916667 | 0.833333 | 0.875 | 0.875 |   0.916667 |   0.958333 |   0.958333 |   0.958333 |      0.875 |   0.916667 |   0.916667 |      0.875 |      0.875 |     0.916667 |       0.958333 |       0.958333 |       0.916667 |       0.916667 |          0.875 |       0.916667 |       0.958333 |          0.875 |       0.916667 |             0.875 |\n",
            "+----------+----------+-------+-------+-------+----------+----------+----------+-------+-------+------------+------------+------------+------------+------------+------------+------------+------------+------------+--------------+----------------+----------------+----------------+----------------+----------------+----------------+----------------+----------------+----------------+-------------------+\n"
          ]
        }
      ]
    },
    {
      "cell_type": "code",
      "source": [
        "mlp_classifier = MLPClassifier(hidden_layer_sizes = (10), max_iter=10000)\n",
        "mlp_classifier.fit(x_train, y_train.values.ravel())\n",
        "y_test_pred = mlp_classifier.predict(x_test)\n",
        "accuracy_score_mlp = accuracy_score(y_test, y_test_pred)\n",
        "print(accuracy_score_mlp)"
      ],
      "metadata": {
        "colab": {
          "base_uri": "https://localhost:8080/"
        },
        "id": "Ic_nx75oEyH4",
        "outputId": "ba53b85b-1b9c-4fb6-bee3-eddd8133d363"
      },
      "execution_count": 189,
      "outputs": [
        {
          "output_type": "stream",
          "name": "stdout",
          "text": [
            "0.9259259259259259\n"
          ]
        }
      ]
    },
    {
      "cell_type": "markdown",
      "source": [
        "# **Gradiente Boosting Tree**"
      ],
      "metadata": {
        "id": "NISYFznPp4aH"
      }
    },
    {
      "cell_type": "code",
      "source": [
        "param_grid_gbc = {\n",
        "    'n_estimators': [100, 200, 300],\n",
        "    'max_features': [3,5],\n",
        "}"
      ],
      "metadata": {
        "id": "IqsAfWhOSSvU"
      },
      "execution_count": 185,
      "outputs": []
    },
    {
      "cell_type": "code",
      "source": [
        "gbc_model = GradientBoostingClassifier()\n",
        "grid_search_gbc = GridSearchCV(estimator=gbc_model, param_grid=param_grid_gbc, scoring='accuracy')\n",
        "grid_search_gbc.fit(x_train, y_train.values.ravel())\n",
        "results_gbc = grid_search_gbc.cv_results_\n",
        "results_gbc"
      ],
      "metadata": {
        "colab": {
          "base_uri": "https://localhost:8080/"
        },
        "id": "ZBlME4tRR8XH",
        "outputId": "1c1b256c-00ee-4156-8fc3-69961de399e7"
      },
      "execution_count": 190,
      "outputs": [
        {
          "output_type": "execute_result",
          "data": {
            "text/plain": [
              "{'mean_fit_time': array([0.38283906, 0.45056553, 0.80690818, 0.25655608, 0.86804647,\n",
              "        1.60804582]),\n",
              " 'std_fit_time': array([0.0703323 , 0.0079404 , 0.15130524, 0.00419921, 0.21227775,\n",
              "        0.35349559]),\n",
              " 'mean_score_time': array([0.00155568, 0.00147653, 0.0018909 , 0.00124211, 0.00277638,\n",
              "        0.0051362 ]),\n",
              " 'std_score_time': array([3.35506467e-04, 6.26274373e-05, 3.72695142e-04, 1.39107579e-04,\n",
              "        1.32929272e-03, 5.86322771e-03]),\n",
              " 'param_max_features': masked_array(data=[3, 3, 3, 5, 5, 5],\n",
              "              mask=[False, False, False, False, False, False],\n",
              "        fill_value='?',\n",
              "             dtype=object),\n",
              " 'param_n_estimators': masked_array(data=[100, 200, 300, 100, 200, 300],\n",
              "              mask=[False, False, False, False, False, False],\n",
              "        fill_value='?',\n",
              "             dtype=object),\n",
              " 'params': [{'max_features': 3, 'n_estimators': 100},\n",
              "  {'max_features': 3, 'n_estimators': 200},\n",
              "  {'max_features': 3, 'n_estimators': 300},\n",
              "  {'max_features': 5, 'n_estimators': 100},\n",
              "  {'max_features': 5, 'n_estimators': 200},\n",
              "  {'max_features': 5, 'n_estimators': 300}],\n",
              " 'split0_test_score': array([0.96, 0.96, 0.96, 0.92, 0.92, 0.92]),\n",
              " 'split1_test_score': array([1., 1., 1., 1., 1., 1.]),\n",
              " 'split2_test_score': array([1., 1., 1., 1., 1., 1.]),\n",
              " 'split3_test_score': array([1.  , 1.  , 1.  , 1.  , 1.  , 0.96]),\n",
              " 'split4_test_score': array([0.91666667, 0.91666667, 0.91666667, 0.91666667, 0.875     ,\n",
              "        0.91666667]),\n",
              " 'mean_test_score': array([0.97533333, 0.97533333, 0.97533333, 0.96733333, 0.959     ,\n",
              "        0.95933333]),\n",
              " 'std_test_score': array([0.03317295, 0.03317295, 0.03317295, 0.04002222, 0.05219195,\n",
              "        0.03653917]),\n",
              " 'rank_test_score': array([1, 1, 1, 4, 6, 5], dtype=int32)}"
            ]
          },
          "metadata": {},
          "execution_count": 190
        }
      ]
    },
    {
      "cell_type": "code",
      "source": [
        "grid_search_gbc.best_params_"
      ],
      "metadata": {
        "colab": {
          "base_uri": "https://localhost:8080/"
        },
        "id": "ei2n8BjEnUBf",
        "outputId": "b73a6f02-d381-42f8-addd-623a8a8158d4"
      },
      "execution_count": 187,
      "outputs": [
        {
          "output_type": "execute_result",
          "data": {
            "text/plain": [
              "{'max_features': 3, 'n_estimators': 100}"
            ]
          },
          "metadata": {},
          "execution_count": 187
        }
      ]
    },
    {
      "cell_type": "code",
      "source": [
        "my_data = [results_gbc['split0_test_score'],results_gbc['split1_test_score'],results_gbc['split2_test_score'],results_gbc['split3_test_score'],results_gbc['split4_test_score'] ]\n",
        "headers =  ['max_features: 3, n_estimators: 100', 'max_features: 3, n_estimators: 200', 'max_features: 3, n_estimators: 300',\n",
        "            'max_features: 5, n_estimators: 100', 'max_features: 5, n_estimators: 200', 'max_features: 5, n_estimators: 300']\n",
        "print(tabulate(my_data, headers=headers, tablefmt='grid'))"
      ],
      "metadata": {
        "colab": {
          "base_uri": "https://localhost:8080/"
        },
        "id": "BEomrceEnGno",
        "outputId": "d0fe8d22-ca1b-494b-ccd7-c645a3115fcc"
      },
      "execution_count": 192,
      "outputs": [
        {
          "output_type": "stream",
          "name": "stdout",
          "text": [
            "+--------------------------------------+--------------------------------------+--------------------------------------+--------------------------------------+--------------------------------------+--------------------------------------+\n",
            "|   max_features: 3, n_estimators: 100 |   max_features: 3, n_estimators: 200 |   max_features: 3, n_estimators: 300 |   max_features: 5, n_estimators: 100 |   max_features: 5, n_estimators: 200 |   max_features: 5, n_estimators: 300 |\n",
            "+======================================+======================================+======================================+======================================+======================================+======================================+\n",
            "|                             0.96     |                             0.96     |                             0.96     |                             0.92     |                                0.92  |                             0.92     |\n",
            "+--------------------------------------+--------------------------------------+--------------------------------------+--------------------------------------+--------------------------------------+--------------------------------------+\n",
            "|                             1        |                             1        |                             1        |                             1        |                                1     |                             1        |\n",
            "+--------------------------------------+--------------------------------------+--------------------------------------+--------------------------------------+--------------------------------------+--------------------------------------+\n",
            "|                             1        |                             1        |                             1        |                             1        |                                1     |                             1        |\n",
            "+--------------------------------------+--------------------------------------+--------------------------------------+--------------------------------------+--------------------------------------+--------------------------------------+\n",
            "|                             1        |                             1        |                             1        |                             1        |                                1     |                             0.96     |\n",
            "+--------------------------------------+--------------------------------------+--------------------------------------+--------------------------------------+--------------------------------------+--------------------------------------+\n",
            "|                             0.916667 |                             0.916667 |                             0.916667 |                             0.916667 |                                0.875 |                             0.916667 |\n",
            "+--------------------------------------+--------------------------------------+--------------------------------------+--------------------------------------+--------------------------------------+--------------------------------------+\n"
          ]
        }
      ]
    },
    {
      "cell_type": "code",
      "source": [
        "gbc_classifier = GradientBoostingClassifier(max_features= 3, n_estimators= 100)\n",
        "gbc_classifier.fit(x_train, y_train.values.ravel())\n",
        "y_test_pred = gbc_classifier.predict(x_test)\n",
        "accuracy_score_gbc = accuracy_score(y_test, y_test_pred)\n",
        "print(accuracy_score_gbc)"
      ],
      "metadata": {
        "colab": {
          "base_uri": "https://localhost:8080/"
        },
        "id": "zNpkjxNbozdd",
        "outputId": "8c7d9068-b0cf-4993-9c7c-c220a940b271"
      },
      "execution_count": 193,
      "outputs": [
        {
          "output_type": "stream",
          "name": "stdout",
          "text": [
            "0.9814814814814815\n"
          ]
        }
      ]
    },
    {
      "cell_type": "markdown",
      "source": [
        "# **Análisis Discriminante Cuadrático**"
      ],
      "metadata": {
        "id": "OfUN1mzOp--E"
      }
    },
    {
      "cell_type": "code",
      "source": [
        "param_grid_qda = {\n",
        "  'store_covariance' : [True, False],\n",
        "}"
      ],
      "metadata": {
        "id": "AQJLVo-tplWa"
      },
      "execution_count": 195,
      "outputs": []
    },
    {
      "cell_type": "code",
      "source": [
        "qda_model = QuadraticDiscriminantAnalysis()\n",
        "grid_search_qda = GridSearchCV(estimator=qda_model, param_grid=param_grid_qda, scoring='accuracy')\n",
        "grid_search_qda.fit(x_train, y_train.values.ravel())\n",
        "results_qda = grid_search_qda.cv_results_\n",
        "results_qda"
      ],
      "metadata": {
        "colab": {
          "base_uri": "https://localhost:8080/"
        },
        "id": "8lyHaq90q2zD",
        "outputId": "3f0d1dd4-d8e0-4f60-9a0a-1f79bd1c41f4"
      },
      "execution_count": 196,
      "outputs": [
        {
          "output_type": "execute_result",
          "data": {
            "text/plain": [
              "{'mean_fit_time': array([0.00487008, 0.00134931]),\n",
              " 'std_fit_time': array([6.79261238e-03, 2.21257580e-05]),\n",
              " 'mean_score_time': array([0.00090551, 0.00084963]),\n",
              " 'std_score_time': array([9.95842183e-05, 1.02454542e-05]),\n",
              " 'param_store_covariance': masked_array(data=[True, False],\n",
              "              mask=[False, False],\n",
              "        fill_value='?',\n",
              "             dtype=object),\n",
              " 'params': [{'store_covariance': True}, {'store_covariance': False}],\n",
              " 'split0_test_score': array([0.96, 0.96]),\n",
              " 'split1_test_score': array([0.96, 0.96]),\n",
              " 'split2_test_score': array([1., 1.]),\n",
              " 'split3_test_score': array([0.92, 0.92]),\n",
              " 'split4_test_score': array([0.91666667, 0.91666667]),\n",
              " 'mean_test_score': array([0.95133333, 0.95133333]),\n",
              " 'std_test_score': array([0.03066667, 0.03066667]),\n",
              " 'rank_test_score': array([1, 1], dtype=int32)}"
            ]
          },
          "metadata": {},
          "execution_count": 196
        }
      ]
    },
    {
      "cell_type": "code",
      "source": [
        "grid_search_qda.best_params_"
      ],
      "metadata": {
        "colab": {
          "base_uri": "https://localhost:8080/"
        },
        "id": "kg081yX6rZvW",
        "outputId": "9aa51329-baa2-4ec1-800c-871916725345"
      },
      "execution_count": 199,
      "outputs": [
        {
          "output_type": "execute_result",
          "data": {
            "text/plain": [
              "{'store_covariance': True}"
            ]
          },
          "metadata": {},
          "execution_count": 199
        }
      ]
    },
    {
      "cell_type": "code",
      "source": [
        "my_data = [results_qda['split0_test_score'],results_qda['split1_test_score'],results_qda['split2_test_score'],results_qda['split3_test_score'],results_qda['split4_test_score'] ]\n",
        "headers =  [True, False]\n",
        "print(tabulate(my_data, headers=headers, tablefmt='grid'))"
      ],
      "metadata": {
        "colab": {
          "base_uri": "https://localhost:8080/"
        },
        "id": "jdc-9_fIrfGj",
        "outputId": "ff6aeaea-9cf5-4d03-a601-ce5be44e4884"
      },
      "execution_count": 200,
      "outputs": [
        {
          "output_type": "stream",
          "name": "stdout",
          "text": [
            "+----------+----------+\n",
            "|     True |    False |\n",
            "+==========+==========+\n",
            "| 0.96     | 0.96     |\n",
            "+----------+----------+\n",
            "| 0.96     | 0.96     |\n",
            "+----------+----------+\n",
            "| 1        | 1        |\n",
            "+----------+----------+\n",
            "| 0.92     | 0.92     |\n",
            "+----------+----------+\n",
            "| 0.916667 | 0.916667 |\n",
            "+----------+----------+\n"
          ]
        }
      ]
    },
    {
      "cell_type": "code",
      "source": [
        "qda_classifier = QuadraticDiscriminantAnalysis(store_covariance= False)\n",
        "qda_classifier.fit(x_train, y_train.values.ravel())\n",
        "y_test_pred = qda_classifier.predict(x_test)\n",
        "accuracy_score_mlp = accuracy_score(y_test, y_test_pred)\n",
        "print(accuracy_score_mlp)"
      ],
      "metadata": {
        "colab": {
          "base_uri": "https://localhost:8080/"
        },
        "id": "pKpmUuXOsEFD",
        "outputId": "de0b60d2-41e2-4142-d515-550d31c46bcc"
      },
      "execution_count": 202,
      "outputs": [
        {
          "output_type": "stream",
          "name": "stdout",
          "text": [
            "1.0\n"
          ]
        }
      ]
    },
    {
      "cell_type": "markdown",
      "source": [],
      "metadata": {
        "id": "4A4uSD7xQfKL"
      }
    }
  ]
}